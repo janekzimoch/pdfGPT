{
 "cells": [
  {
   "cell_type": "code",
   "execution_count": 2,
   "id": "dac946f7",
   "metadata": {},
   "outputs": [],
   "source": [
    "import os\n",
    "import openai\n",
    "\n",
    "from dotenv import load_dotenv, find_dotenv\n",
    "_ = load_dotenv(find_dotenv()) # read local .env file\n",
    "openai.api_key = os.environ['OPENAI_API_KEY']"
   ]
  },
  {
   "cell_type": "code",
   "execution_count": null,
   "id": "0068eedf",
   "metadata": {},
   "outputs": [],
   "source": [
    "# break down the document into chunks\n",
    "# ceate emebdings for those chunks\n",
    "# create a vecotr store for embedings\n",
    "# make sure you can write some prompt and find those embeddings quikcly\n",
    "# make sure it is all nicelly packaged\n",
    "\n",
    "# "
   ]
  }
 ],
 "metadata": {
  "kernelspec": {
   "display_name": "Python 3 (ipykernel)",
   "language": "python",
   "name": "python3"
  },
  "language_info": {
   "codemirror_mode": {
    "name": "ipython",
    "version": 3
   },
   "file_extension": ".py",
   "mimetype": "text/x-python",
   "name": "python",
   "nbconvert_exporter": "python",
   "pygments_lexer": "ipython3",
   "version": "3.9.6"
  }
 },
 "nbformat": 4,
 "nbformat_minor": 5
}
