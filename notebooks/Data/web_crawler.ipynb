{
 "cells": [
  {
   "cell_type": "code",
   "execution_count": 40,
   "id": "bf48bedb",
   "metadata": {},
   "outputs": [],
   "source": [
    "import os\n",
    "import requests\n",
    "from urllib.parse import urljoin\n",
    "from bs4 import BeautifulSoup\n",
    "import pandas as pd\n",
    "import numpy as np\n",
    "from tqdm import tqdm"
   ]
  },
  {
   "cell_type": "code",
   "execution_count": 17,
   "id": "8e229a05",
   "metadata": {},
   "outputs": [
    {
     "data": {
      "text/plain": [
       "[2010, 2011, 2012, 2013, 2014, 2015, 2016, 2017, 2018, 2019, 2020, 2021, 2022]"
      ]
     },
     "execution_count": 17,
     "metadata": {},
     "output_type": "execute_result"
    }
   ],
   "source": [
    "YEARS_OF_INTEREST = np.arange(2010,2023,1).tolist()\n",
    "YEARS_OF_INTEREST"
   ]
  },
  {
   "cell_type": "code",
   "execution_count": 2,
   "id": "2f78e54b",
   "metadata": {},
   "outputs": [
    {
     "name": "stdout",
     "output_type": "stream",
     "text": [
      "True\n"
     ]
    }
   ],
   "source": [
    "a = 2\n",
    "if a is not None:\n",
    "    print(True)"
   ]
  },
  {
   "cell_type": "code",
   "execution_count": 31,
   "id": "52be856c",
   "metadata": {},
   "outputs": [],
   "source": [
    "base = 'https://papers.nips.cc/'\n",
    "url = 'https://papers.nips.cc/paper_files/paper/2022'\n",
    "save_path = '/Users/janek/Documents/gpt_project/papers/'\n",
    "if not os.path.exists(save_path):os.mkdir(save_path)\n",
    "\n",
    "response = requests.get(url)\n",
    "soup= BeautifulSoup(response.text, \"html.parser\")     \n",
    "# for link in soup.select(\"a[href$='.pdf']\"):\n",
    "#     #Name the pdf files using the last portion of each link which are unique in this case\n",
    "#     filename = os.path.join(folder_location,link['href'].split('/')[-1])\n",
    "#     with open(filename, 'wb') as f:\n",
    "#         f.write(requests.get(urljoin(url,link['href'])).content)"
   ]
  },
  {
   "cell_type": "code",
   "execution_count": 32,
   "id": "24e86b89",
   "metadata": {},
   "outputs": [],
   "source": [
    "links = soup.findAll(\"a\", {'title': 'paper title'})\n",
    "url_sub = links[0].get(\"href\")"
   ]
  },
  {
   "cell_type": "code",
   "execution_count": 33,
   "id": "061273d7",
   "metadata": {},
   "outputs": [
    {
     "data": {
      "text/plain": [
       "'https://papers.nips.cc/paper_files/paper/2022'"
      ]
     },
     "execution_count": 33,
     "metadata": {},
     "output_type": "execute_result"
    }
   ],
   "source": [
    "url"
   ]
  },
  {
   "cell_type": "code",
   "execution_count": 35,
   "id": "ebe49bb7",
   "metadata": {},
   "outputs": [
    {
     "data": {
      "text/plain": [
       "[]"
      ]
     },
     "execution_count": 35,
     "metadata": {},
     "output_type": "execute_result"
    }
   ],
   "source": [
    "response = requests.get(base + url_sub)\n",
    "soup= BeautifulSoup(response.text, \"html.parser\")    \n",
    "links = soup.findAll(\"a\", {'title': 'paper title'})\n",
    "links"
   ]
  },
  {
   "cell_type": "code",
   "execution_count": 39,
   "id": "d40882c2",
   "metadata": {},
   "outputs": [
    {
     "data": {
      "text/plain": [
       "'/paper_files/paper/2022/file/002262941c9edfd472a79298b2ac5e17-Paper-Conference.pdf'"
      ]
     },
     "execution_count": 39,
     "metadata": {},
     "output_type": "execute_result"
    }
   ],
   "source": [
    "soup.select(\"a[href$='Paper-Conference.pdf']\")[0]['href']"
   ]
  },
  {
   "cell_type": "code",
   "execution_count": null,
   "id": "34715760",
   "metadata": {},
   "outputs": [],
   "source": [
    "https://papers.nips.cc//paper_files/paper/2022/file/002262941c9edfd472a79298b2ac5e17-Paper-Conference.pdf"
   ]
  },
  {
   "cell_type": "code",
   "execution_count": 45,
   "id": "9a7e04da",
   "metadata": {},
   "outputs": [
    {
     "data": {
      "text/plain": [
       "'nips'"
      ]
     },
     "execution_count": 45,
     "metadata": {},
     "output_type": "execute_result"
    }
   ],
   "source": [
    "conference"
   ]
  },
  {
   "cell_type": "code",
   "execution_count": 63,
   "id": "30d11d54",
   "metadata": {},
   "outputs": [],
   "source": [
    "SAVE_TO = '/Users/janek/Documents/gpt_project/papers/'\n",
    "YEARS_OF_INTEREST = np.arange(2010,2023,1).tolist()\n",
    "\n",
    "def make_directory(save_path):\n",
    "    if '.pdf' in save_path:\n",
    "        save_path = '/'.join(save_path.split('/')[:-1])\n",
    "    if not os.path.exists(save_path):os.mkdir(save_path)\n",
    "\n",
    "def save_file(full_url, save_to):\n",
    "    make_directory(save_to)\n",
    "    with open(save_to, 'wb') as f:\n",
    "        f.write(requests.get(full_url).content)\n",
    "\n",
    "def get_pdfs_nips():\n",
    "    BASE = 'https://papers.nips.cc/'\n",
    "    \n",
    "    for year in tqdm(YEARS_OF_INTEREST):\n",
    "        all_pdf_links = []\n",
    "        # parse html\n",
    "        # for each year retrive list of links to paper pages\n",
    "        response = requests.get(BASE + f'paper_files/paper/{year}')\n",
    "        soup = BeautifulSoup(response.text, \"html.parser\")\n",
    "        paper_links = soup.findAll(\"a\", {'title': 'paper title'})  # 'paper title' is NIPS specific\n",
    "        for link in paper_links:  # for each paper page retrive links to paper pdfs\n",
    "            response2 = requests.get(base + link[\"href\"])\n",
    "            soup2 = BeautifulSoup(response2.text, \"html.parser\")    \n",
    "            pdf_links = soup2.select(\"a[href$='.pdf']\")  # 'Paper-Conference' is NIPS specific\n",
    "            pdf_links = [l for l in pdf_links if 'Paper' in l]\n",
    "            for pdf_link in pdf_links: \n",
    "                pdf_link_href = pdf_link['href']  # we expect to see only one pdf file thus [0]\n",
    "                all_pdf_links.append(urljoin(base,pdf_link_href))\n",
    "\n",
    "        # download\n",
    "        nips_save_to = SAVE_TO + f'{conference}/' + f'{year}/' \n",
    "        for link in all_pdf_links:\n",
    "            fname = link.split('/')[-1]\n",
    "            save_file(link, nips_save_to + fname)"
   ]
  },
  {
   "cell_type": "code",
   "execution_count": null,
   "id": "316e13de",
   "metadata": {
    "scrolled": false
   },
   "outputs": [
    {
     "name": "stderr",
     "output_type": "stream",
     "text": [
      "\r",
      "  0%|                                                                                                   | 0/13 [00:00<?, ?it/s]"
     ]
    }
   ],
   "source": [
    "get_pdfs_nips()"
   ]
  },
  {
   "cell_type": "code",
   "execution_count": null,
   "id": "33d8d907",
   "metadata": {},
   "outputs": [],
   "source": []
  }
 ],
 "metadata": {
  "kernelspec": {
   "display_name": "Python 3 (ipykernel)",
   "language": "python",
   "name": "python3"
  },
  "language_info": {
   "codemirror_mode": {
    "name": "ipython",
    "version": 3
   },
   "file_extension": ".py",
   "mimetype": "text/x-python",
   "name": "python",
   "nbconvert_exporter": "python",
   "pygments_lexer": "ipython3",
   "version": "3.9.6"
  }
 },
 "nbformat": 4,
 "nbformat_minor": 5
}
