{
 "cells": [
  {
   "cell_type": "code",
   "execution_count": 8,
   "id": "7961b15e",
   "metadata": {},
   "outputs": [],
   "source": [
    "import os\n",
    "import sys\n",
    "from supabase import create_client, Client\n",
    "from dotenv import load_dotenv, find_dotenv\n",
    "\n",
    "_ = load_dotenv('/Users/janek/Coding/PersonalProjects/playground/pdfGPT/pdfgpt/server/.env')  # read local .env file\n",
    "\n",
    "url: str = os.environ[\"DB_SUPABASE_URL\"]\n",
    "key: str = os.environ[\"DB_SUPABASE_KEY\"]\n",
    "# Note: By default, Supabase projects return a maximum of 1,000 rows. This setting can be changed in your project's API settings.\n",
    "supabase: Client = create_client(url, key)"
   ]
  },
  {
   "cell_type": "code",
   "execution_count": 30,
   "id": "6339e83c",
   "metadata": {},
   "outputs": [],
   "source": [
    "# create a new user\n",
    "random_email: str = \"3hf82fijf92@supamail.com\"\n",
    "random_password: str = \"fqj13bnf2hiu23h\"\n",
    "user = supabase.auth.sign_up({ \"email\": random_email, \"password\": random_password })"
   ]
  },
  {
   "cell_type": "code",
   "execution_count": 31,
   "id": "cf60043d",
   "metadata": {},
   "outputs": [],
   "source": [
    "# login for an existing user \n",
    "random_email: str = \"janekzimoch@gmail.com\"\n",
    "random_password: str = os.environ[\"DB_SUPABASE_PASSWORD\"]\n",
    "user = supabase.auth.sign_in_with_password({ \"email\": random_email, \"password\": random_password })"
   ]
  },
  {
   "cell_type": "code",
   "execution_count": 32,
   "id": "3080dcb7",
   "metadata": {},
   "outputs": [
    {
     "data": {
      "text/plain": [
       "'ba4827f9-2ad8-4e23-8c48-ce824e5cfe80'"
      ]
     },
     "execution_count": 32,
     "metadata": {},
     "output_type": "execute_result"
    }
   ],
   "source": [
    "user.user.id"
   ]
  },
  {
   "cell_type": "code",
   "execution_count": null,
   "id": "ac3c8c36",
   "metadata": {},
   "outputs": [],
   "source": [
    "text_objects = [{'user_id': user.user.id,\n",
    "                'session_id': 0,\n",
    "                'title': 'blank',\n",
    "                'page': 4,\n",
    "                'text': 'lorem ipsum lorem ipsum'.\n",
    "                'embedding': [0,1,2,3,4,5]},\n",
    "               {'user_id': user.user.id,\n",
    "                'session_id': 0,\n",
    "                'title': 'blank2',\n",
    "                'page': 5,\n",
    "                'text': 'lorem ipsum lorem ipsum x2'.\n",
    "                'embedding': [6,7,8,9,10,11]}]"
   ]
  },
  {
   "cell_type": "code",
   "execution_count": 23,
   "id": "d1030ad0",
   "metadata": {},
   "outputs": [
    {
     "ename": "APIError",
     "evalue": "{'code': '42501', 'details': None, 'hint': None, 'message': 'new row violates row-level security policy for table \"countries\"'}",
     "output_type": "error",
     "traceback": [
      "\u001b[0;31m---------------------------------------------------------------------------\u001b[0m",
      "\u001b[0;31mAPIError\u001b[0m                                  Traceback (most recent call last)",
      "Cell \u001b[0;32mIn [23], line 1\u001b[0m\n\u001b[0;32m----> 1\u001b[0m data \u001b[38;5;241m=\u001b[39m \u001b[43msupabase\u001b[49m\u001b[38;5;241;43m.\u001b[39;49m\u001b[43mtable\u001b[49m\u001b[43m(\u001b[49m\u001b[38;5;124;43m\"\u001b[39;49m\u001b[38;5;124;43mcountries\u001b[39;49m\u001b[38;5;124;43m\"\u001b[39;49m\u001b[43m)\u001b[49m\u001b[38;5;241;43m.\u001b[39;49m\u001b[43minsert\u001b[49m\u001b[43m(\u001b[49m\u001b[43m{\u001b[49m\u001b[38;5;124;43m\"\u001b[39;49m\u001b[38;5;124;43mcountry\u001b[39;49m\u001b[38;5;124;43m\"\u001b[39;49m\u001b[43m:\u001b[49m\u001b[38;5;124;43m\"\u001b[39;49m\u001b[38;5;124;43mGermany\u001b[39;49m\u001b[38;5;124;43m\"\u001b[39;49m\u001b[43m}\u001b[49m\u001b[43m)\u001b[49m\u001b[38;5;241;43m.\u001b[39;49m\u001b[43mexecute\u001b[49m\u001b[43m(\u001b[49m\u001b[43m)\u001b[49m\n\u001b[1;32m      2\u001b[0m \u001b[38;5;28;01massert\u001b[39;00m \u001b[38;5;28mlen\u001b[39m(data\u001b[38;5;241m.\u001b[39mdata) \u001b[38;5;241m>\u001b[39m \u001b[38;5;241m0\u001b[39m\n",
      "File \u001b[0;32m~/.venv/ml/lib/python3.9/site-packages/postgrest/_sync/request_builder.py:68\u001b[0m, in \u001b[0;36mSyncQueryRequestBuilder.execute\u001b[0;34m(self)\u001b[0m\n\u001b[1;32m     66\u001b[0m         \u001b[38;5;28;01mreturn\u001b[39;00m APIResponse\u001b[38;5;241m.\u001b[39mfrom_http_request_response(r)\n\u001b[1;32m     67\u001b[0m     \u001b[38;5;28;01melse\u001b[39;00m:\n\u001b[0;32m---> 68\u001b[0m         \u001b[38;5;28;01mraise\u001b[39;00m APIError(r\u001b[38;5;241m.\u001b[39mjson())\n\u001b[1;32m     69\u001b[0m \u001b[38;5;28;01mexcept\u001b[39;00m ValidationError \u001b[38;5;28;01mas\u001b[39;00m e:\n\u001b[1;32m     70\u001b[0m     \u001b[38;5;28;01mraise\u001b[39;00m APIError(r\u001b[38;5;241m.\u001b[39mjson()) \u001b[38;5;28;01mfrom\u001b[39;00m \u001b[38;5;21;01me\u001b[39;00m\n",
      "\u001b[0;31mAPIError\u001b[0m: {'code': '42501', 'details': None, 'hint': None, 'message': 'new row violates row-level security policy for table \"countries\"'}"
     ]
    }
   ],
   "source": [
    "data = supabase.table(\"countries\").insert({\"country\":\"Germany\"}).execute()\n",
    "assert len(data.data) > 0"
   ]
  },
  {
   "cell_type": "code",
   "execution_count": 20,
   "id": "360668f3",
   "metadata": {},
   "outputs": [
    {
     "ename": "APIError",
     "evalue": "{}",
     "output_type": "error",
     "traceback": [
      "\u001b[0;31m---------------------------------------------------------------------------\u001b[0m",
      "\u001b[0;31mAPIError\u001b[0m                                  Traceback (most recent call last)",
      "Cell \u001b[0;32mIn [20], line 1\u001b[0m\n\u001b[0;32m----> 1\u001b[0m data \u001b[38;5;241m=\u001b[39m \u001b[43msupabase\u001b[49m\u001b[38;5;241;43m.\u001b[39;49m\u001b[43mtable\u001b[49m\u001b[43m(\u001b[49m\u001b[43mTABLE_NAME\u001b[49m\u001b[43m)\u001b[49m\u001b[38;5;241;43m.\u001b[39;49m\u001b[43minsert\u001b[49m\u001b[43m(\u001b[49m\u001b[43mtext_objects\u001b[49m\u001b[43m)\u001b[49m\u001b[38;5;241;43m.\u001b[39;49m\u001b[43mexecute\u001b[49m\u001b[43m(\u001b[49m\u001b[43m)\u001b[49m\n",
      "File \u001b[0;32m~/.venv/ml/lib/python3.9/site-packages/postgrest/_sync/request_builder.py:68\u001b[0m, in \u001b[0;36mSyncQueryRequestBuilder.execute\u001b[0;34m(self)\u001b[0m\n\u001b[1;32m     66\u001b[0m         \u001b[38;5;28;01mreturn\u001b[39;00m APIResponse\u001b[38;5;241m.\u001b[39mfrom_http_request_response(r)\n\u001b[1;32m     67\u001b[0m     \u001b[38;5;28;01melse\u001b[39;00m:\n\u001b[0;32m---> 68\u001b[0m         \u001b[38;5;28;01mraise\u001b[39;00m APIError(r\u001b[38;5;241m.\u001b[39mjson())\n\u001b[1;32m     69\u001b[0m \u001b[38;5;28;01mexcept\u001b[39;00m ValidationError \u001b[38;5;28;01mas\u001b[39;00m e:\n\u001b[1;32m     70\u001b[0m     \u001b[38;5;28;01mraise\u001b[39;00m APIError(r\u001b[38;5;241m.\u001b[39mjson()) \u001b[38;5;28;01mfrom\u001b[39;00m \u001b[38;5;21;01me\u001b[39;00m\n",
      "\u001b[0;31mAPIError\u001b[0m: {}"
     ]
    }
   ],
   "source": [
    "data = supabase.table('test').insert(text_objects).execute()"
   ]
  },
  {
   "cell_type": "code",
   "execution_count": 18,
   "id": "9909c109",
   "metadata": {},
   "outputs": [
    {
     "ename": "APIError",
     "evalue": "{'code': '42P01', 'details': None, 'hint': None, 'message': 'relation \"public.documents\" does not exist'}",
     "output_type": "error",
     "traceback": [
      "\u001b[0;31m---------------------------------------------------------------------------\u001b[0m",
      "\u001b[0;31mAPIError\u001b[0m                                  Traceback (most recent call last)",
      "Cell \u001b[0;32mIn [18], line 3\u001b[0m\n\u001b[1;32m      1\u001b[0m TABLE_NAME \u001b[38;5;241m=\u001b[39m \u001b[38;5;124m'\u001b[39m\u001b[38;5;124mdocuments\u001b[39m\u001b[38;5;124m'\u001b[39m\n\u001b[1;32m      2\u001b[0m \u001b[38;5;66;03m# count: int = supabase.table(TABLE_NAME).select(\"COUNT(*)\").execute()\u001b[39;00m\n\u001b[0;32m----> 3\u001b[0m count: \u001b[38;5;28mint\u001b[39m \u001b[38;5;241m=\u001b[39m \u001b[43msupabase\u001b[49m\u001b[38;5;241;43m.\u001b[39;49m\u001b[43mtable\u001b[49m\u001b[43m(\u001b[49m\u001b[43mTABLE_NAME\u001b[49m\u001b[43m)\u001b[49m\u001b[38;5;241;43m.\u001b[39;49m\u001b[43mselect\u001b[49m\u001b[43m(\u001b[49m\u001b[38;5;124;43m\"\u001b[39;49m\u001b[38;5;124;43m*\u001b[39;49m\u001b[38;5;124;43m\"\u001b[39;49m\u001b[43m)\u001b[49m\u001b[38;5;241;43m.\u001b[39;49m\u001b[43mexecute\u001b[49m\u001b[43m(\u001b[49m\u001b[43m)\u001b[49m\n",
      "File \u001b[0;32m~/.venv/ml/lib/python3.9/site-packages/postgrest/_sync/request_builder.py:68\u001b[0m, in \u001b[0;36mSyncQueryRequestBuilder.execute\u001b[0;34m(self)\u001b[0m\n\u001b[1;32m     66\u001b[0m         \u001b[38;5;28;01mreturn\u001b[39;00m APIResponse\u001b[38;5;241m.\u001b[39mfrom_http_request_response(r)\n\u001b[1;32m     67\u001b[0m     \u001b[38;5;28;01melse\u001b[39;00m:\n\u001b[0;32m---> 68\u001b[0m         \u001b[38;5;28;01mraise\u001b[39;00m APIError(r\u001b[38;5;241m.\u001b[39mjson())\n\u001b[1;32m     69\u001b[0m \u001b[38;5;28;01mexcept\u001b[39;00m ValidationError \u001b[38;5;28;01mas\u001b[39;00m e:\n\u001b[1;32m     70\u001b[0m     \u001b[38;5;28;01mraise\u001b[39;00m APIError(r\u001b[38;5;241m.\u001b[39mjson()) \u001b[38;5;28;01mfrom\u001b[39;00m \u001b[38;5;21;01me\u001b[39;00m\n",
      "\u001b[0;31mAPIError\u001b[0m: {'code': '42P01', 'details': None, 'hint': None, 'message': 'relation \"public.documents\" does not exist'}"
     ]
    }
   ],
   "source": [
    "TABLE_NAME = 'documents'\n",
    "# count: int = supabase.table(TABLE_NAME).select(\"COUNT(*)\").execute()\n",
    "count: int = supabase.table(TABLE_NAME).select(\"*\").execute()"
   ]
  },
  {
   "cell_type": "code",
   "execution_count": 13,
   "id": "e642c60d",
   "metadata": {},
   "outputs": [
    {
     "data": {
      "text/plain": [
       "'/documents'"
      ]
     },
     "execution_count": 13,
     "metadata": {},
     "output_type": "execute_result"
    }
   ],
   "source": [
    "count.path"
   ]
  },
  {
   "cell_type": "code",
   "execution_count": 14,
   "id": "21f3f919",
   "metadata": {},
   "outputs": [
    {
     "data": {
      "text/plain": [
       "dict_keys(['session', 'headers', 'params', 'negate_next', 'path', 'http_method', 'json'])"
      ]
     },
     "execution_count": 14,
     "metadata": {},
     "output_type": "execute_result"
    }
   ],
   "source": [
    "count.__dict__.keys()"
   ]
  },
  {
   "cell_type": "code",
   "execution_count": 16,
   "id": "03fd19b1",
   "metadata": {},
   "outputs": [
    {
     "data": {
      "text/plain": [
       "QueryParams('select=COUNT%28%2A%29')"
      ]
     },
     "execution_count": 16,
     "metadata": {},
     "output_type": "execute_result"
    }
   ],
   "source": [
    "count.params"
   ]
  },
  {
   "cell_type": "code",
   "execution_count": null,
   "id": "92a35b90",
   "metadata": {},
   "outputs": [],
   "source": []
  }
 ],
 "metadata": {
  "kernelspec": {
   "display_name": "Python 3 (ipykernel)",
   "language": "python",
   "name": "python3"
  },
  "language_info": {
   "codemirror_mode": {
    "name": "ipython",
    "version": 3
   },
   "file_extension": ".py",
   "mimetype": "text/x-python",
   "name": "python",
   "nbconvert_exporter": "python",
   "pygments_lexer": "ipython3",
   "version": "3.9.6"
  }
 },
 "nbformat": 4,
 "nbformat_minor": 5
}
