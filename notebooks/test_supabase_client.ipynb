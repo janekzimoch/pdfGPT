{
 "cells": [
  {
   "cell_type": "code",
   "execution_count": 8,
   "id": "39df3580",
   "metadata": {},
   "outputs": [],
   "source": [
    "import os\n",
    "import sys\n",
    "from supabase import create_client, Client\n",
    "from dotenv import load_dotenv, find_dotenv\n",
    "\n",
    "_ = load_dotenv('/Users/janek/Coding/PersonalProjects/playground/pdfGPT/pdfgpt/server/.env')  # read local .env file\n",
    "\n",
    "url: str = os.environ[\"DB_SUPABASE_URL\"]\n",
    "key: str = os.environ[\"DB_SUPABASE_KEY\"]\n",
    "# Note: By default, Supabase projects return a maximum of 1,000 rows. This setting can be changed in your project's API settings.\n",
    "supabase: Client = create_client(url, key)"
   ]
  },
  {
   "cell_type": "code",
   "execution_count": 47,
   "id": "78d1472a",
   "metadata": {},
   "outputs": [],
   "source": [
    "# create a new user\n",
    "random_email: str = \"aquaflorasklep@gmail.com\"\n",
    "random_password: str = \"fqj13bnf2hiu23h\"\n",
    "user = supabase.auth.sign_up({ \"email\": random_email, \"password\": random_password })"
   ]
  },
  {
   "cell_type": "code",
   "execution_count": 93,
   "id": "9a9e5fed",
   "metadata": {},
   "outputs": [],
   "source": [
    "# create a new user\n",
    "random_email: str = \"aquaflorasklep@gmail.com\"\n",
    "random_password: str = \"fqj13bnf2hiu23h\"\n",
    "user = supabase.auth.sign_in_with_password({ \"email\": random_email, \"password\": random_password })"
   ]
  },
  {
   "cell_type": "code",
   "execution_count": 85,
   "id": "254feb6a",
   "metadata": {},
   "outputs": [],
   "source": [
    "# login for an existing user \n",
    "random_email: str = \"janekzimoch@gmail.com\"\n",
    "random_password: str = os.environ[\"DB_SUPABASE_PASSWORD\"]\n",
    "user = supabase.auth.sign_in_with_password({ \"email\": random_email, \"password\": random_password })"
   ]
  },
  {
   "cell_type": "code",
   "execution_count": 94,
   "id": "197e5c9f",
   "metadata": {},
   "outputs": [
    {
     "data": {
      "text/plain": [
       "<postgrest._sync.client.SyncPostgrestClient at 0x106a61430>"
      ]
     },
     "execution_count": 94,
     "metadata": {},
     "output_type": "execute_result"
    }
   ],
   "source": [
    "# set the right key to enable RSL - security\n",
    "postgrest_client = supabase.postgrest\n",
    "postgrest_client.auth(user.session.access_token) \n",
    "\n",
    "# # after running queries - exceute this\n",
    "# supabase.auth.sign_out()\n",
    "# postgrest_client.auth(key) # go back to using the anon key"
   ]
  },
  {
   "cell_type": "code",
   "execution_count": 32,
   "id": "322fc181",
   "metadata": {},
   "outputs": [
    {
     "data": {
      "text/plain": [
       "'ba4827f9-2ad8-4e23-8c48-ce824e5cfe80'"
      ]
     },
     "execution_count": 32,
     "metadata": {},
     "output_type": "execute_result"
    }
   ],
   "source": [
    "user.user.id"
   ]
  },
  {
   "cell_type": "code",
   "execution_count": 87,
   "id": "c1bcd11f",
   "metadata": {},
   "outputs": [],
   "source": [
    "text_objects = [{'user_id': user.user.id,\n",
    "                'session_id': 0,\n",
    "                'title': 'else',\n",
    "                'page': 4,\n",
    "                'content': 'lorem ipsum lorem ipsum',\n",
    "                'embedding': [0,1,2,3,4,5]},\n",
    "               {'user_id': user.user.id,\n",
    "                'session_id': 0,\n",
    "                'title': 'else',\n",
    "                'page': 5,\n",
    "                'content': 'lorem ipsum lorem ipsum x2',\n",
    "                'embedding': [6,7,8,9,10,11]}]"
   ]
  },
  {
   "cell_type": "markdown",
   "id": "daf0da33",
   "metadata": {},
   "source": [
    "### insert some rows"
   ]
  },
  {
   "cell_type": "code",
   "execution_count": 88,
   "id": "a887fe0c",
   "metadata": {},
   "outputs": [],
   "source": [
    "data = supabase.table(\"documents\").insert(text_objects).execute()\n",
    "assert len(data.data) > 0"
   ]
  },
  {
   "cell_type": "code",
   "execution_count": 89,
   "id": "53897f54",
   "metadata": {},
   "outputs": [
    {
     "data": {
      "text/plain": [
       "[{'id': 458,\n",
       "  'user_id': 'ba4827f9-2ad8-4e23-8c48-ce824e5cfe80',\n",
       "  'session_id': 0,\n",
       "  'title': 'else',\n",
       "  'page': 4,\n",
       "  'content': 'lorem ipsum lorem ipsum',\n",
       "  'embedding': [0, 1, 2, 3, 4, 5],\n",
       "  'start_line': None},\n",
       " {'id': 459,\n",
       "  'user_id': 'ba4827f9-2ad8-4e23-8c48-ce824e5cfe80',\n",
       "  'session_id': 0,\n",
       "  'title': 'else',\n",
       "  'page': 5,\n",
       "  'content': 'lorem ipsum lorem ipsum x2',\n",
       "  'embedding': [6, 7, 8, 9, 10, 11],\n",
       "  'start_line': None}]"
      ]
     },
     "execution_count": 89,
     "metadata": {},
     "output_type": "execute_result"
    }
   ],
   "source": [
    "data.data"
   ]
  },
  {
   "cell_type": "markdown",
   "id": "4d553bac",
   "metadata": {},
   "source": [
    "### select some rows - it will only let you pull data you are entitled to"
   ]
  },
  {
   "cell_type": "code",
   "execution_count": 95,
   "id": "4db86594",
   "metadata": {},
   "outputs": [
    {
     "ename": "AssertionError",
     "evalue": "",
     "output_type": "error",
     "traceback": [
      "\u001b[0;31m---------------------------------------------------------------------------\u001b[0m",
      "\u001b[0;31mAssertionError\u001b[0m                            Traceback (most recent call last)",
      "Cell \u001b[0;32mIn [95], line 3\u001b[0m\n\u001b[1;32m      1\u001b[0m data \u001b[38;5;241m=\u001b[39m supabase\u001b[38;5;241m.\u001b[39mtable(\u001b[38;5;124m\"\u001b[39m\u001b[38;5;124mdocuments\u001b[39m\u001b[38;5;124m\"\u001b[39m)\u001b[38;5;241m.\u001b[39mselect(\u001b[38;5;124m\"\u001b[39m\u001b[38;5;124m*\u001b[39m\u001b[38;5;124m\"\u001b[39m)\u001b[38;5;241m.\u001b[39mexecute()\n\u001b[1;32m      2\u001b[0m \u001b[38;5;66;03m# Assert we pulled real data.\u001b[39;00m\n\u001b[0;32m----> 3\u001b[0m \u001b[38;5;28;01massert\u001b[39;00m \u001b[38;5;28mlen\u001b[39m(data\u001b[38;5;241m.\u001b[39mdata) \u001b[38;5;241m>\u001b[39m \u001b[38;5;241m0\u001b[39m\n",
      "\u001b[0;31mAssertionError\u001b[0m: "
     ]
    }
   ],
   "source": [
    "data = supabase.table(\"documents\").select(\"*\").execute()\n",
    "# Assert we pulled real data.\n",
    "assert len(data.data) > 0"
   ]
  },
  {
   "cell_type": "code",
   "execution_count": 98,
   "id": "792a0c10",
   "metadata": {},
   "outputs": [
    {
     "data": {
      "text/plain": [
       "[]"
      ]
     },
     "execution_count": 98,
     "metadata": {},
     "output_type": "execute_result"
    }
   ],
   "source": [
    "unique_titles = list({par['title'] for par in data.data})\n",
    "unique_titles"
   ]
  },
  {
   "cell_type": "code",
   "execution_count": 55,
   "id": "47334fac",
   "metadata": {},
   "outputs": [
    {
     "ename": "AssertionError",
     "evalue": "",
     "output_type": "error",
     "traceback": [
      "\u001b[0;31m---------------------------------------------------------------------------\u001b[0m",
      "\u001b[0;31mAssertionError\u001b[0m                            Traceback (most recent call last)",
      "Cell \u001b[0;32mIn [55], line 3\u001b[0m\n\u001b[1;32m      1\u001b[0m data \u001b[38;5;241m=\u001b[39m supabase\u001b[38;5;241m.\u001b[39mtable(\u001b[38;5;124m\"\u001b[39m\u001b[38;5;124mdocuments\u001b[39m\u001b[38;5;124m\"\u001b[39m)\u001b[38;5;241m.\u001b[39mselect(\u001b[38;5;124m\"\u001b[39m\u001b[38;5;124m*\u001b[39m\u001b[38;5;124m\"\u001b[39m)\u001b[38;5;241m.\u001b[39meq(\u001b[38;5;124m\"\u001b[39m\u001b[38;5;124mtitle\u001b[39m\u001b[38;5;124m\"\u001b[39m, \u001b[38;5;124m\"\u001b[39m\u001b[38;5;124mblank\u001b[39m\u001b[38;5;124m\"\u001b[39m)\u001b[38;5;241m.\u001b[39mexecute()\n\u001b[1;32m      2\u001b[0m \u001b[38;5;66;03m# Assert we pulled real data.\u001b[39;00m\n\u001b[0;32m----> 3\u001b[0m \u001b[38;5;28;01massert\u001b[39;00m \u001b[38;5;28mlen\u001b[39m(data\u001b[38;5;241m.\u001b[39mdata) \u001b[38;5;241m>\u001b[39m \u001b[38;5;241m0\u001b[39m\n",
      "\u001b[0;31mAssertionError\u001b[0m: "
     ]
    }
   ],
   "source": [
    "data = supabase.table(\"documents\").select(\"*\").eq(\"title\", \"blank\").execute()\n",
    "# Assert we pulled real data.\n",
    "assert len(data.data) > 0"
   ]
  },
  {
   "cell_type": "markdown",
   "id": "1a43dd9c",
   "metadata": {},
   "source": [
    "### delete some rows"
   ]
  },
  {
   "cell_type": "code",
   "execution_count": 59,
   "id": "22170264",
   "metadata": {},
   "outputs": [],
   "source": [
    "data = supabase.table(\"documents\").delete().eq(\"id\", 4).execute()"
   ]
  },
  {
   "cell_type": "code",
   "execution_count": 70,
   "id": "0454dd9c",
   "metadata": {},
   "outputs": [
    {
     "data": {
      "text/plain": [
       "APIResponse(data=[{'id': 5}], count=None)"
      ]
     },
     "execution_count": 70,
     "metadata": {},
     "output_type": "execute_result"
    }
   ],
   "source": [
    "data"
   ]
  },
  {
   "cell_type": "markdown",
   "id": "6d341fe5",
   "metadata": {},
   "source": [
    "### check size of a database for a specific user"
   ]
  },
  {
   "cell_type": "code",
   "execution_count": 68,
   "id": "52a3835b",
   "metadata": {},
   "outputs": [
    {
     "data": {
      "text/plain": [
       "1"
      ]
     },
     "execution_count": 68,
     "metadata": {},
     "output_type": "execute_result"
    }
   ],
   "source": [
    "data = supabase.table(\"documents\").select(\"id\").execute()\n",
    "len(data.data)"
   ]
  },
  {
   "cell_type": "markdown",
   "id": "b9329d0a",
   "metadata": {},
   "source": [
    "### try getting unqiue elements"
   ]
  },
  {
   "cell_type": "code",
   "execution_count": 91,
   "id": "c342f88a",
   "metadata": {},
   "outputs": [
    {
     "data": {
      "text/plain": [
       "[{'id': 458,\n",
       "  'user_id': 'ba4827f9-2ad8-4e23-8c48-ce824e5cfe80',\n",
       "  'session_id': 0,\n",
       "  'title': 'else',\n",
       "  'page': 4,\n",
       "  'content': 'lorem ipsum lorem ipsum',\n",
       "  'embedding': [0, 1, 2, 3, 4, 5],\n",
       "  'start_line': None},\n",
       " {'id': 459,\n",
       "  'user_id': 'ba4827f9-2ad8-4e23-8c48-ce824e5cfe80',\n",
       "  'session_id': 0,\n",
       "  'title': 'else',\n",
       "  'page': 5,\n",
       "  'content': 'lorem ipsum lorem ipsum x2',\n",
       "  'embedding': [6, 7, 8, 9, 10, 11],\n",
       "  'start_line': None}]"
      ]
     },
     "execution_count": 91,
     "metadata": {},
     "output_type": "execute_result"
    }
   ],
   "source": [
    "data = supabase.table(\"documents\").select('*').execute()\n",
    "data.data"
   ]
  },
  {
   "cell_type": "code",
   "execution_count": 92,
   "id": "5a7cf576",
   "metadata": {},
   "outputs": [
    {
     "ename": "AttributeError",
     "evalue": "'SyncSelectRequestBuilder' object has no attribute 'unique'",
     "output_type": "error",
     "traceback": [
      "\u001b[0;31m---------------------------------------------------------------------------\u001b[0m",
      "\u001b[0;31mAttributeError\u001b[0m                            Traceback (most recent call last)",
      "Cell \u001b[0;32mIn [92], line 1\u001b[0m\n\u001b[0;32m----> 1\u001b[0m \u001b[43msupabase\u001b[49m\u001b[38;5;241;43m.\u001b[39;49m\u001b[43mtable\u001b[49m\u001b[43m(\u001b[49m\u001b[38;5;124;43m\"\u001b[39;49m\u001b[38;5;124;43mdocuments\u001b[39;49m\u001b[38;5;124;43m\"\u001b[39;49m\u001b[43m)\u001b[49m\u001b[38;5;241;43m.\u001b[39;49m\u001b[43mselect\u001b[49m\u001b[43m(\u001b[49m\u001b[38;5;124;43m'\u001b[39;49m\u001b[38;5;124;43m*\u001b[39;49m\u001b[38;5;124;43m'\u001b[39;49m\u001b[43m)\u001b[49m\u001b[38;5;241;43m.\u001b[39;49m\u001b[43munique\u001b[49m()\n",
      "\u001b[0;31mAttributeError\u001b[0m: 'SyncSelectRequestBuilder' object has no attribute 'unique'"
     ]
    }
   ],
   "source": [
    "supabase.table(\"documents\").select('*').unique()"
   ]
  },
  {
   "cell_type": "code",
   "execution_count": null,
   "id": "cbf61a6a",
   "metadata": {},
   "outputs": [],
   "source": []
  },
  {
   "cell_type": "code",
   "execution_count": null,
   "id": "b3cec261",
   "metadata": {},
   "outputs": [],
   "source": []
  },
  {
   "cell_type": "code",
   "execution_count": null,
   "id": "390f607e",
   "metadata": {},
   "outputs": [],
   "source": []
  },
  {
   "cell_type": "code",
   "execution_count": 20,
   "id": "db7ed976",
   "metadata": {},
   "outputs": [
    {
     "ename": "APIError",
     "evalue": "{}",
     "output_type": "error",
     "traceback": [
      "\u001b[0;31m---------------------------------------------------------------------------\u001b[0m",
      "\u001b[0;31mAPIError\u001b[0m                                  Traceback (most recent call last)",
      "Cell \u001b[0;32mIn [20], line 1\u001b[0m\n\u001b[0;32m----> 1\u001b[0m data \u001b[38;5;241m=\u001b[39m \u001b[43msupabase\u001b[49m\u001b[38;5;241;43m.\u001b[39;49m\u001b[43mtable\u001b[49m\u001b[43m(\u001b[49m\u001b[43mTABLE_NAME\u001b[49m\u001b[43m)\u001b[49m\u001b[38;5;241;43m.\u001b[39;49m\u001b[43minsert\u001b[49m\u001b[43m(\u001b[49m\u001b[43mtext_objects\u001b[49m\u001b[43m)\u001b[49m\u001b[38;5;241;43m.\u001b[39;49m\u001b[43mexecute\u001b[49m\u001b[43m(\u001b[49m\u001b[43m)\u001b[49m\n",
      "File \u001b[0;32m~/.venv/ml/lib/python3.9/site-packages/postgrest/_sync/request_builder.py:68\u001b[0m, in \u001b[0;36mSyncQueryRequestBuilder.execute\u001b[0;34m(self)\u001b[0m\n\u001b[1;32m     66\u001b[0m         \u001b[38;5;28;01mreturn\u001b[39;00m APIResponse\u001b[38;5;241m.\u001b[39mfrom_http_request_response(r)\n\u001b[1;32m     67\u001b[0m     \u001b[38;5;28;01melse\u001b[39;00m:\n\u001b[0;32m---> 68\u001b[0m         \u001b[38;5;28;01mraise\u001b[39;00m APIError(r\u001b[38;5;241m.\u001b[39mjson())\n\u001b[1;32m     69\u001b[0m \u001b[38;5;28;01mexcept\u001b[39;00m ValidationError \u001b[38;5;28;01mas\u001b[39;00m e:\n\u001b[1;32m     70\u001b[0m     \u001b[38;5;28;01mraise\u001b[39;00m APIError(r\u001b[38;5;241m.\u001b[39mjson()) \u001b[38;5;28;01mfrom\u001b[39;00m \u001b[38;5;21;01me\u001b[39;00m\n",
      "\u001b[0;31mAPIError\u001b[0m: {}"
     ]
    }
   ],
   "source": [
    "data = supabase.table('test').insert(text_objects).execute()"
   ]
  },
  {
   "cell_type": "code",
   "execution_count": 18,
   "id": "556037da",
   "metadata": {},
   "outputs": [
    {
     "ename": "APIError",
     "evalue": "{'code': '42P01', 'details': None, 'hint': None, 'message': 'relation \"public.documents\" does not exist'}",
     "output_type": "error",
     "traceback": [
      "\u001b[0;31m---------------------------------------------------------------------------\u001b[0m",
      "\u001b[0;31mAPIError\u001b[0m                                  Traceback (most recent call last)",
      "Cell \u001b[0;32mIn [18], line 3\u001b[0m\n\u001b[1;32m      1\u001b[0m TABLE_NAME \u001b[38;5;241m=\u001b[39m \u001b[38;5;124m'\u001b[39m\u001b[38;5;124mdocuments\u001b[39m\u001b[38;5;124m'\u001b[39m\n\u001b[1;32m      2\u001b[0m \u001b[38;5;66;03m# count: int = supabase.table(TABLE_NAME).select(\"COUNT(*)\").execute()\u001b[39;00m\n\u001b[0;32m----> 3\u001b[0m count: \u001b[38;5;28mint\u001b[39m \u001b[38;5;241m=\u001b[39m \u001b[43msupabase\u001b[49m\u001b[38;5;241;43m.\u001b[39;49m\u001b[43mtable\u001b[49m\u001b[43m(\u001b[49m\u001b[43mTABLE_NAME\u001b[49m\u001b[43m)\u001b[49m\u001b[38;5;241;43m.\u001b[39;49m\u001b[43mselect\u001b[49m\u001b[43m(\u001b[49m\u001b[38;5;124;43m\"\u001b[39;49m\u001b[38;5;124;43m*\u001b[39;49m\u001b[38;5;124;43m\"\u001b[39;49m\u001b[43m)\u001b[49m\u001b[38;5;241;43m.\u001b[39;49m\u001b[43mexecute\u001b[49m\u001b[43m(\u001b[49m\u001b[43m)\u001b[49m\n",
      "File \u001b[0;32m~/.venv/ml/lib/python3.9/site-packages/postgrest/_sync/request_builder.py:68\u001b[0m, in \u001b[0;36mSyncQueryRequestBuilder.execute\u001b[0;34m(self)\u001b[0m\n\u001b[1;32m     66\u001b[0m         \u001b[38;5;28;01mreturn\u001b[39;00m APIResponse\u001b[38;5;241m.\u001b[39mfrom_http_request_response(r)\n\u001b[1;32m     67\u001b[0m     \u001b[38;5;28;01melse\u001b[39;00m:\n\u001b[0;32m---> 68\u001b[0m         \u001b[38;5;28;01mraise\u001b[39;00m APIError(r\u001b[38;5;241m.\u001b[39mjson())\n\u001b[1;32m     69\u001b[0m \u001b[38;5;28;01mexcept\u001b[39;00m ValidationError \u001b[38;5;28;01mas\u001b[39;00m e:\n\u001b[1;32m     70\u001b[0m     \u001b[38;5;28;01mraise\u001b[39;00m APIError(r\u001b[38;5;241m.\u001b[39mjson()) \u001b[38;5;28;01mfrom\u001b[39;00m \u001b[38;5;21;01me\u001b[39;00m\n",
      "\u001b[0;31mAPIError\u001b[0m: {'code': '42P01', 'details': None, 'hint': None, 'message': 'relation \"public.documents\" does not exist'}"
     ]
    }
   ],
   "source": [
    "TABLE_NAME = 'documents'\n",
    "# count: int = supabase.table(TABLE_NAME).select(\"COUNT(*)\").execute()\n",
    "count: int = supabase.table(TABLE_NAME).select(\"*\").execute()"
   ]
  },
  {
   "cell_type": "code",
   "execution_count": 13,
   "id": "d9401385",
   "metadata": {},
   "outputs": [
    {
     "data": {
      "text/plain": [
       "'/documents'"
      ]
     },
     "execution_count": 13,
     "metadata": {},
     "output_type": "execute_result"
    }
   ],
   "source": [
    "count.path"
   ]
  },
  {
   "cell_type": "code",
   "execution_count": 14,
   "id": "1698cd54",
   "metadata": {},
   "outputs": [
    {
     "data": {
      "text/plain": [
       "dict_keys(['session', 'headers', 'params', 'negate_next', 'path', 'http_method', 'json'])"
      ]
     },
     "execution_count": 14,
     "metadata": {},
     "output_type": "execute_result"
    }
   ],
   "source": [
    "count.__dict__.keys()"
   ]
  },
  {
   "cell_type": "code",
   "execution_count": 16,
   "id": "77254c4b",
   "metadata": {},
   "outputs": [
    {
     "data": {
      "text/plain": [
       "QueryParams('select=COUNT%28%2A%29')"
      ]
     },
     "execution_count": 16,
     "metadata": {},
     "output_type": "execute_result"
    }
   ],
   "source": [
    "count.params"
   ]
  },
  {
   "cell_type": "code",
   "execution_count": null,
   "id": "32f6bef1",
   "metadata": {},
   "outputs": [],
   "source": []
  }
 ],
 "metadata": {
  "kernelspec": {
   "display_name": "Python 3 (ipykernel)",
   "language": "python",
   "name": "python3"
  },
  "language_info": {
   "codemirror_mode": {
    "name": "ipython",
    "version": 3
   },
   "file_extension": ".py",
   "mimetype": "text/x-python",
   "name": "python",
   "nbconvert_exporter": "python",
   "pygments_lexer": "ipython3",
   "version": "3.9.6"
  }
 },
 "nbformat": 4,
 "nbformat_minor": 5
}
